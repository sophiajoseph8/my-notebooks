{
  "nbformat": 4,
  "nbformat_minor": 0,
  "metadata": {
    "colab": {
      "name": "My First Notebook",
      "provenance": [],
      "authorship_tag": "ABX9TyNhlnkI+Km+t8EqvLsnxsTQ",
      "include_colab_link": true
    },
    "kernelspec": {
      "name": "python3",
      "display_name": "Python 3"
    },
    "language_info": {
      "name": "python"
    }
  },
  "cells": [
    {
      "cell_type": "markdown",
      "metadata": {
        "id": "view-in-github",
        "colab_type": "text"
      },
      "source": [
        "<a href=\"https://colab.research.google.com/github/sophiajoseph8/my-notebooks/blob/main/My_First_Notebook.ipynb\" target=\"_parent\"><img src=\"https://colab.research.google.com/assets/colab-badge.svg\" alt=\"Open In Colab\"/></a>"
      ]
    },
    {
      "cell_type": "code",
      "execution_count": null,
      "metadata": {
        "id": "I0hC1BZPuvGI"
      },
      "outputs": [],
      "source": [
        ""
      ]
    },
    {
      "cell_type": "markdown",
      "source": [
        "This is some text\n",
        "\n",
        "we can write any language (line English)"
      ],
      "metadata": {
        "id": "1Cq8uyyCwlFP"
      }
    },
    {
      "cell_type": "code",
      "source": [
        "# My Heading\n",
        "## Heading Level 2"
      ],
      "metadata": {
        "id": "L8se-nsxwgry"
      },
      "execution_count": 1,
      "outputs": []
    },
    {
      "cell_type": "code",
      "source": [
        "# My Heading\n"
      ],
      "metadata": {
        "id": "MCn4HjwoxV_v"
      },
      "execution_count": null,
      "outputs": []
    },
    {
      "cell_type": "markdown",
      "source": [
        "#My Heading\n",
        "\n",
        "##Heading level 2\n",
        "\n",
        "here is a list:\n",
        "\n",
        "+ Item 1\n",
        "+ Item 2\n",
        "+ Item 3\n",
        "\n",
        "numbered likst:\n",
        "1. Item 1\n",
        "2. Item 2\n",
        "3. Item 3\n",
        "\n",
        "This is a link: [link name](https://www.google.com)\n",
        "\n",
        "this is a code block (we'll use this in README files):\n",
        "\n",
        "```\n",
        "print(\"HELLO\")\n",
        "```"
      ],
      "metadata": {
        "id": "sqEV3t-jxY3o"
      }
    },
    {
      "cell_type": "code",
      "source": [
        "# This is some example Python code\n",
        "# These lines starting with \"#\" are \"comments\"\n",
        "# Remember \"#\" means something different in Markdown than it does in Python\n",
        "\n",
        "print(\"HELLO WORLD!\")\n",
        "\n",
        "x = 2 + 2\n",
        "print(x)"
      ],
      "metadata": {
        "colab": {
          "base_uri": "https://localhost:8080/"
        },
        "id": "zeBGqsBpykDs",
        "outputId": "f24ef3f6-0150-47e0-8495-771a605752e8"
      },
      "execution_count": 2,
      "outputs": [
        {
          "output_type": "stream",
          "name": "stdout",
          "text": [
            "HELLO WORLD!\n",
            "4\n"
          ]
        }
      ]
    },
    {
      "cell_type": "markdown",
      "source": [
        ""
      ],
      "metadata": {
        "id": "xBDMvw_lwg6U"
      }
    }
  ]
}